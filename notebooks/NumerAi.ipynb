{
 "cells": [
  {
   "cell_type": "code",
   "execution_count": null,
   "metadata": {},
   "outputs": [],
   "source": [
    "import pandas as pd\n",
    "import numpy as np\n",
    "from sklearn import preprocessing\n",
    "from dataghobot.featengine import MissingValues\n",
    "from dataghobot.ghobot import Automaton\n",
    "from dataghobot.utils import DataGenerator\n",
    "from dataghobot.stacking import CrossValStack\n",
    "from dataghobot.utils import ParamsGenerator\n",
    "from sklearn.cross_validation import train_test_split\n",
    "from dataghobot.models import SklearnOpt\n",
    "from sklearn import metrics"
   ]
  },
  {
   "cell_type": "code",
   "execution_count": null,
   "metadata": {},
   "outputs": [],
   "source": [
    "dftrain = pd.read_csv('/home/issam/ddddata/numerai_datasets/numerai_training_data.csv')\n",
    "dftest = pd.read_csv('/home/issam/ddddata/numerai_datasets/numerai_tournament_data.csv')"
   ]
  },
  {
   "cell_type": "code",
   "execution_count": null,
   "metadata": {},
   "outputs": [],
   "source": [
    "dftrain['t_id'] = -1\n",
    "dftest['target'] = -1"
   ]
  },
  {
   "cell_type": "code",
   "execution_count": null,
   "metadata": {},
   "outputs": [],
   "source": [
    "df = pd.concat([dftrain.drop(['validation'], axis=1), dftest], axis=0)"
   ]
  },
  {
   "cell_type": "code",
   "execution_count": null,
   "metadata": {},
   "outputs": [],
   "source": [
    "for col in df.columns:\n",
    "    if col.startswith('f'):\n",
    "        df[col] = df[col] / df[col].max()"
   ]
  },
  {
   "cell_type": "code",
   "execution_count": null,
   "metadata": {},
   "outputs": [],
   "source": [
    "x, y = df.drop(['target', 't_id'], axis=1), df.target"
   ]
  },
  {
   "cell_type": "code",
   "execution_count": null,
   "metadata": {},
   "outputs": [],
   "source": [
    "x_train, y_train = x[y != -1], y[y != -1]\n",
    "x_test, y_test = x[y == -1], y[y == -1]"
   ]
  },
  {
   "cell_type": "code",
   "execution_count": null,
   "metadata": {},
   "outputs": [],
   "source": [
    ""
   ]
  }
 ],
 "metadata": {},
 "nbformat": 4,
 "nbformat_minor": 0
}